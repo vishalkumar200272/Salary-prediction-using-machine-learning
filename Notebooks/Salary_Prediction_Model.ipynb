{
 "cells": [
  {
   "cell_type": "code",
   "execution_count": 2,
   "id": "3eae1d0f",
   "metadata": {},
   "outputs": [],
   "source": [
    "#IMPORT MODULES\n",
    "import pandas as pd\n",
    "import numpy as np\n",
    "import time\n",
    "# SENTIMENT ANALYSIS USING VADER\n",
    "from sklearn.model_selection import train_test_split, cross_val_score\n",
    "from sklearn.metrics import accuracy_score, precision_score, f1_score, roc_auc_score, precision_score, recall_score, classification_report\n",
    "from sklearn.preprocessing import StandardScaler, MinMaxScaler, LabelEncoder\n",
    "from sklearn.svm import LinearSVC, SVC\n",
    "from sklearn.naive_bayes import BernoulliNB, MultinomialNB\n",
    "from sklearn.linear_model import LinearRegression, Ridge, Lasso\n",
    "from sklearn.tree import DecisionTreeRegressor\n",
    "from sklearn.ensemble import RandomForestRegressor\n",
    "from xgboost import XGBRegressor\n",
    "from lightgbm import LGBMRegressor\n",
    "from catboost import CatBoostRegressor\n",
    "from sklearn.metrics import mean_squared_error, r2_score\n",
    "from sklearn.metrics import mean_absolute_error, mean_squared_error, r2_score\n"
   ]
  },
  {
   "cell_type": "code",
   "execution_count": 85,
   "id": "163d3472",
   "metadata": {},
   "outputs": [
    {
     "data": {
      "text/plain": [
       "32615"
      ]
     },
     "execution_count": 85,
     "metadata": {},
     "output_type": "execute_result"
    }
   ],
   "source": [
    "len(df)"
   ]
  },
  {
   "cell_type": "code",
   "execution_count": 20,
   "id": "61bc2569",
   "metadata": {},
   "outputs": [
    {
     "data": {
      "text/plain": [
       "48225"
      ]
     },
     "execution_count": 20,
     "metadata": {},
     "output_type": "execute_result"
    }
   ],
   "source": [
    "len(df1)"
   ]
  },
  {
   "cell_type": "code",
   "execution_count": 18,
   "id": "347ea171",
   "metadata": {},
   "outputs": [],
   "source": [
    "columns = [\n",
    "    \"MainBranch\",\n",
    "    \"Age\",\n",
    "    \"RemoteWork\",\n",
    "    \"EdLevel\",\n",
    "    \"YearsCode\",\n",
    "    \"YearsCodePro\",\n",
    "    \"DevType\",\n",
    "    \"OrgSize\",\n",
    "    \"PurchaseInfluence\",\n",
    "    \"TechList\",\n",
    "    \"Country\",\n",
    "    \"Currency\",\n",
    "    \"CompTotal\",\n",
    "    \"AISelect\",\n",
    "    \"AISent\",\n",
    "    \"AIBen\",\n",
    "    \"WorkExp\",\n",
    "    \"Industry\"\n",
    "]\n",
    "\n",
    "df1 = df1[columns]"
   ]
  },
  {
   "cell_type": "code",
   "execution_count": 19,
   "id": "535da9a5",
   "metadata": {},
   "outputs": [],
   "source": [
    "df1 = df1[df1[\"CompTotal\"].notnull()]"
   ]
  },
  {
   "cell_type": "code",
   "execution_count": 12,
   "id": "359d292c",
   "metadata": {},
   "outputs": [],
   "source": [
    "df1 = df1.dropna()"
   ]
  },
  {
   "cell_type": "code",
   "execution_count": 14,
   "id": "7b928729",
   "metadata": {},
   "outputs": [],
   "source": [
    "df1 = pd.read_csv(\"Datasets/survey_results_public.csv\")\n",
    "df = pd.read_csv(\"Updated Dataset.csv\")"
   ]
  },
  {
   "cell_type": "code",
   "execution_count": null,
   "id": "696c0b65",
   "metadata": {},
   "outputs": [],
   "source": [
    "df1['LanguageHaveWorkedWith']"
   ]
  },
  {
   "cell_type": "code",
   "execution_count": 48,
   "id": "fea4d7eb",
   "metadata": {},
   "outputs": [],
   "source": [
    "def shorten_categories(categories, cutoff):\n",
    "    categorical_map = {}\n",
    "    for i in range(len(categories)):\n",
    "        if categories.values[i] >= cutoff:\n",
    "            categorical_map[categories.index[i]] = categories.index[i]\n",
    "        else:\n",
    "            categorical_map[categories.index[i]] = 'Other'\n",
    "    return categorical_map"
   ]
  },
  {
   "cell_type": "code",
   "execution_count": 49,
   "id": "0ec4eea9",
   "metadata": {},
   "outputs": [
    {
     "data": {
      "text/plain": [
       "Country\n",
       "Other    9626\n",
       "177      8005\n",
       "59       2682\n",
       "175      2305\n",
       "72       1524\n",
       "30       1422\n",
       "56       1074\n",
       "131       918\n",
       "23        915\n",
       "115       837\n",
       "8         768\n",
       "154       764\n",
       "79        712\n",
       "159       632\n",
       "160       431\n",
       "Name: count, dtype: int64"
      ]
     },
     "execution_count": 49,
     "metadata": {},
     "output_type": "execute_result"
    }
   ],
   "source": [
    "country_map = shorten_categories(df.Country.value_counts(), 400)\n",
    "df['Country'] = df['Country'].map(country_map)\n",
    "df.Country.value_counts()"
   ]
  },
  {
   "cell_type": "code",
   "execution_count": 50,
   "id": "85197709",
   "metadata": {},
   "outputs": [],
   "source": [
    "df = df[df[\"Salary\"] <= 250000]\n",
    "df = df[df[\"Salary\"] >= 10000]\n",
    "df = df[df['Country'] != 'Other']"
   ]
  },
  {
   "cell_type": "code",
   "execution_count": null,
   "id": "428c90fb",
   "metadata": {},
   "outputs": [],
   "source": [
    "df"
   ]
  },
  {
   "cell_type": "code",
   "execution_count": 57,
   "id": "e84225a5",
   "metadata": {},
   "outputs": [
    {
     "data": {
      "text/plain": [
       "Age\n",
       "1    8782\n",
       "2    5850\n",
       "3    2031\n",
       "0    1777\n",
       "4     723\n",
       "5     108\n",
       "6      10\n",
       "7       6\n",
       "Name: count, dtype: int64"
      ]
     },
     "execution_count": 57,
     "metadata": {},
     "output_type": "execute_result"
    }
   ],
   "source": [
    "df['Age'].value_counts()"
   ]
  },
  {
   "cell_type": "code",
   "execution_count": 51,
   "id": "8fb98099",
   "metadata": {},
   "outputs": [],
   "source": [
    "X = df[[\n",
    "    \"Age\",\n",
    "    \"RemoteWork\",\n",
    "    \"EdLevel\",\n",
    "    \"YearsCode\",\n",
    "    \"Country\",\n",
    "    \"WorkExp\",\n",
    "    \"Industry\"\n",
    "]]"
   ]
  },
  {
   "cell_type": "code",
   "execution_count": 52,
   "id": "a28ddf81",
   "metadata": {},
   "outputs": [],
   "source": [
    "Y = df['Salary']"
   ]
  },
  {
   "cell_type": "code",
   "execution_count": 53,
   "id": "5c0f79e2",
   "metadata": {},
   "outputs": [],
   "source": [
    "X_train, X_test, y_train, y_test = train_test_split(\n",
    "    X, Y, test_size=0.2, random_state=42)"
   ]
  },
  {
   "cell_type": "code",
   "execution_count": 54,
   "id": "4c5426cd",
   "metadata": {},
   "outputs": [],
   "source": [
    "scaler = StandardScaler()\n",
    "X_train_scaled = scaler.fit_transform(X_train)\n",
    "X_test_scaled = scaler.transform(X_test)"
   ]
  },
  {
   "cell_type": "code",
   "execution_count": 55,
   "id": "a25577fa",
   "metadata": {},
   "outputs": [],
   "source": [
    "classifiers = {}\n",
    "\n",
    "# Linear Regression\n",
    "classifiers[\"LinearRegression\"] = LinearRegression()\n",
    "\n",
    "# # Decision Tree\n",
    "classifiers[\"DecisionTree\"] = DecisionTreeRegressor()\n",
    "\n",
    "# # Random Forest\n",
    "classifiers[\"RandomForest\"] = RandomForestRegressor()\n",
    "\n",
    "# # XGBoost\n",
    "classifiers[\"XGBoost\"] = XGBRegressor()\n",
    "\n",
    "# # LightGBM\n",
    "# classifiers[\"LightGBM\"] = LGBMRegressor()\n",
    "\n",
    "# # CatBoost\n",
    "# classifiers[\"CatBoost\"] = CatBoostRegressor(silent=True)"
   ]
  },
  {
   "cell_type": "code",
   "execution_count": 56,
   "id": "aad24d8d",
   "metadata": {},
   "outputs": [
    {
     "name": "stdout",
     "output_type": "stream",
     "text": [
      "              Model  Run Time (minutes)           MAE           MSE  \\\n",
      "3           XGBoost                0.00  28957.987364  1.552640e+09   \n",
      "2      RandomForest                0.04  31211.171885  1.789830e+09   \n",
      "0  LinearRegression                0.00  41958.498763  2.719233e+09   \n",
      "1      DecisionTree                0.00  39943.514844  3.016460e+09   \n",
      "\n",
      "           RMSE        R2  \n",
      "3  39403.548031  0.513742  \n",
      "2  42306.384951  0.439459  \n",
      "0  52146.264453  0.148387  \n",
      "1  54922.306023  0.055301  \n"
     ]
    }
   ],
   "source": [
    "# Create an empty DataFrame to store the results\n",
    "columns = ['Model', 'Run Time (minutes)', 'MAE', 'MSE', 'RMSE', 'R2']\n",
    "df_models = pd.DataFrame(columns=columns)\n",
    "\n",
    "# Loop through your regression models\n",
    "for key, clf in classifiers.items():\n",
    "    # STARTING TIME\n",
    "    start_time = time.time()\n",
    "    # TRAIN CLASSIFIER ON TRAINING DATA\n",
    "    clf.fit(X_train_scaled, y_train)\n",
    "    # MAKE PREDICTIONS USING CURRENT CLASSIFIER\n",
    "    predictions = clf.predict(X_test_scaled)\n",
    "    # CALCULATE REGRESSION METRICS\n",
    "    mae = mean_absolute_error(y_test, predictions)\n",
    "    mse = mean_squared_error(y_test, predictions)\n",
    "    rmse = mean_squared_error(y_test, predictions, squared=False)  # Calculate RMSE\n",
    "    r2 = r2_score(y_test, predictions)\n",
    "\n",
    "    row = {'Model': key,\n",
    "           'Run Time (minutes)': round((time.time() - start_time) / 60, 2),\n",
    "           'MAE': mae,\n",
    "           'MSE': mse,\n",
    "           'RMSE': rmse,\n",
    "           'R2': r2\n",
    "           }\n",
    "\n",
    "    df_models = pd.concat([df_models, pd.DataFrame([row])], ignore_index=True)\n",
    "\n",
    "# Sort the DataFrame by R-squared (R2) in descending order\n",
    "df_models = df_models.sort_values(by='R2', ascending=False)\n",
    "\n",
    "# PRINT THE MODELS WITH REGRESSION METRICS [SORTED]\n",
    "print(df_models)"
   ]
  },
  {
   "cell_type": "code",
   "execution_count": 7,
   "id": "d4b506d2",
   "metadata": {},
   "outputs": [],
   "source": []
  },
  {
   "cell_type": "code",
   "execution_count": 8,
   "id": "26f938a1",
   "metadata": {},
   "outputs": [
    {
     "data": {
      "text/plain": [
       "Country\n",
       "Other    9626\n",
       "177      8005\n",
       "59       2682\n",
       "175      2305\n",
       "72       1524\n",
       "30       1422\n",
       "56       1074\n",
       "131       918\n",
       "23        915\n",
       "115       837\n",
       "8         768\n",
       "154       764\n",
       "79        712\n",
       "159       632\n",
       "160       431\n",
       "Name: count, dtype: int64"
      ]
     },
     "execution_count": 8,
     "metadata": {},
     "output_type": "execute_result"
    }
   ],
   "source": []
  },
  {
   "cell_type": "code",
   "execution_count": 9,
   "id": "b8406850",
   "metadata": {},
   "outputs": [],
   "source": []
  },
  {
   "cell_type": "code",
   "execution_count": 12,
   "id": "4552a922",
   "metadata": {},
   "outputs": [
    {
     "data": {
      "text/plain": [
       "RemoteWork\n",
       "2    14199\n",
       "0    13863\n",
       "1     4527\n",
       "3       26\n",
       "Name: count, dtype: int64"
      ]
     },
     "execution_count": 12,
     "metadata": {},
     "output_type": "execute_result"
    }
   ],
   "source": [
    "df['RemoteWork'].value_counts()"
   ]
  },
  {
   "cell_type": "code",
   "execution_count": 62,
   "id": "58382678",
   "metadata": {},
   "outputs": [],
   "source": [
    "from sklearn.ensemble import RandomForestRegressor\n",
    "model = RandomForestRegressor()\n",
    "model.fit(X, Y)\n",
    "feature_importances = model.feature_importances_"
   ]
  },
  {
   "cell_type": "code",
   "execution_count": 63,
   "id": "ae946190",
   "metadata": {},
   "outputs": [
    {
     "data": {
      "text/plain": [
       "array([0.00510363, 0.01656425, 0.02091029, 0.03272545, 0.06232747,\n",
       "       0.13599447, 0.05917951, 0.05139641, 0.01657213, 0.01501617,\n",
       "       0.02633969, 0.40580779, 0.01341024, 0.02066656, 0.02446022,\n",
       "       0.04819797, 0.04532776])"
      ]
     },
     "execution_count": 63,
     "metadata": {},
     "output_type": "execute_result"
    }
   ],
   "source": [
    "feature_importances"
   ]
  },
  {
   "cell_type": "code",
   "execution_count": 61,
   "id": "15cbae5f",
   "metadata": {},
   "outputs": [],
   "source": [
    "X = df[[\n",
    "    \"MainBranch\",\n",
    "    \"Age\",\n",
    "    \"RemoteWork\",\n",
    "    \"EdLevel\",\n",
    "    \"YearsCode\",\n",
    "    \"YearsCodePro\",\n",
    "    \"DevType\",\n",
    "    \"OrgSize\",\n",
    "    \"PurchaseInfluence\",\n",
    "    \"TechList\",\n",
    "    \"Country\",\n",
    "    \"Currency\",\n",
    "    \"AISelect\",\n",
    "    \"AISent\",\n",
    "    \"AIBen\",\n",
    "    \"WorkExp\",\n",
    "    \"Industry\"\n",
    "]]"
   ]
  },
  {
   "cell_type": "code",
   "execution_count": 64,
   "id": "13619d30",
   "metadata": {},
   "outputs": [],
   "source": [
    "map_ = {}\n",
    "\n",
    "for i, a in enumerate(X):\n",
    "    map_[a] = feature_importances[i]"
   ]
  },
  {
   "cell_type": "code",
   "execution_count": 66,
   "id": "d77ba872",
   "metadata": {},
   "outputs": [
    {
     "data": {
      "text/plain": [
       "[('MainBranch', 0.005103631115356308),\n",
       " ('AISelect', 0.013410240175554443),\n",
       " ('TechList', 0.015016169020112385),\n",
       " ('Age', 0.016564246534603047),\n",
       " ('PurchaseInfluence', 0.016572132348836227),\n",
       " ('AISent', 0.020666557539747773),\n",
       " ('RemoteWork', 0.02091029195603425),\n",
       " ('AIBen', 0.024460219504638916),\n",
       " ('Country', 0.026339691112407887),\n",
       " ('EdLevel', 0.0327254466803377),\n",
       " ('Industry', 0.045327762475215326),\n",
       " ('WorkExp', 0.0481979699372621),\n",
       " ('OrgSize', 0.051396406823339374),\n",
       " ('DevType', 0.05917950782351618),\n",
       " ('YearsCode', 0.062327472568785416),\n",
       " ('YearsCodePro', 0.1359944680059651),\n",
       " ('Currency', 0.40580778637828757)]"
      ]
     },
     "execution_count": 66,
     "metadata": {},
     "output_type": "execute_result"
    }
   ],
   "source": [
    "sorted(map_.items(), key = lambda x: x[1])"
   ]
  },
  {
   "cell_type": "code",
   "execution_count": 67,
   "id": "4a876c10",
   "metadata": {},
   "outputs": [],
   "source": [
    "df['Age_Truncate'] = df['Age']"
   ]
  },
  {
   "cell_type": "code",
   "execution_count": 68,
   "id": "26eb8058",
   "metadata": {},
   "outputs": [],
   "source": [
    "df['Age_Truncate'] = df['Age_Truncate'].replace([7, 6, 5], 5)"
   ]
  },
  {
   "cell_type": "code",
   "execution_count": 69,
   "id": "73634825",
   "metadata": {},
   "outputs": [
    {
     "data": {
      "text/plain": [
       "Age_Truncate\n",
       "1    8782\n",
       "2    5850\n",
       "3    2031\n",
       "0    1777\n",
       "4     723\n",
       "5     124\n",
       "Name: count, dtype: int64"
      ]
     },
     "execution_count": 69,
     "metadata": {},
     "output_type": "execute_result"
    }
   ],
   "source": [
    "df['Age_Truncate'].value_counts()"
   ]
  },
  {
   "cell_type": "code",
   "execution_count": 70,
   "id": "b652dfe1",
   "metadata": {},
   "outputs": [
    {
     "data": {
      "text/plain": [
       "MainBranch\n",
       "0    18102\n",
       "2     1185\n",
       "Name: count, dtype: int64"
      ]
     },
     "execution_count": 70,
     "metadata": {},
     "output_type": "execute_result"
    }
   ],
   "source": [
    "df['MainBranch'].value_counts()"
   ]
  },
  {
   "cell_type": "code",
   "execution_count": 71,
   "id": "38a10fa9",
   "metadata": {},
   "outputs": [
    {
     "data": {
      "text/plain": [
       "AISelect\n",
       "2    7821\n",
       "0    6656\n",
       "1    4810\n",
       "Name: count, dtype: int64"
      ]
     },
     "execution_count": 71,
     "metadata": {},
     "output_type": "execute_result"
    }
   ],
   "source": [
    "df['AISelect'].value_counts()"
   ]
  },
  {
   "cell_type": "code",
   "execution_count": 73,
   "id": "f23554ac",
   "metadata": {},
   "outputs": [],
   "source": [
    "df1 = df[df[\"Country\"] == \"India\"]"
   ]
  },
  {
   "cell_type": "code",
   "execution_count": 74,
   "id": "9ff7141f",
   "metadata": {},
   "outputs": [
    {
     "data": {
      "text/plain": [
       "Series([], Name: count, dtype: int64)"
      ]
     },
     "execution_count": 74,
     "metadata": {},
     "output_type": "execute_result"
    }
   ],
   "source": [
    "df1[\"Country\"].value_counts()"
   ]
  },
  {
   "cell_type": "code",
   "execution_count": 78,
   "id": "21f48046",
   "metadata": {},
   "outputs": [
    {
     "data": {
      "text/plain": [
       "Country\n",
       "177    7160\n",
       "59     2634\n",
       "175    2279\n",
       "30     1333\n",
       "56     1061\n",
       "115     822\n",
       "154     756\n",
       "8       722\n",
       "23      715\n",
       "79      703\n",
       "131     550\n",
       "160     417\n",
       "72      109\n",
       "159      26\n",
       "Name: count, dtype: int64"
      ]
     },
     "execution_count": 78,
     "metadata": {},
     "output_type": "execute_result"
    }
   ],
   "source": [
    "df['Country'].value_counts()"
   ]
  },
  {
   "cell_type": "code",
   "execution_count": 17,
   "id": "563ce2e2",
   "metadata": {},
   "outputs": [
    {
     "data": {
      "text/plain": [
       "Currency\n",
       "131    9148\n",
       "41     8770\n",
       "44     2325\n",
       "57     1498\n",
       "24     1414\n",
       "       ... \n",
       "85        1\n",
       "89        1\n",
       "73        1\n",
       "25        1\n",
       "11        1\n",
       "Name: count, Length: 122, dtype: int64"
      ]
     },
     "execution_count": 17,
     "metadata": {},
     "output_type": "execute_result"
    }
   ],
   "source": [
    "df[\"Currency\"].value_counts()"
   ]
  },
  {
   "cell_type": "code",
   "execution_count": null,
   "id": "2da06ce4",
   "metadata": {},
   "outputs": [],
   "source": []
  }
 ],
 "metadata": {
  "kernelspec": {
   "display_name": "Python 3 (ipykernel)",
   "language": "python",
   "name": "python3"
  },
  "language_info": {
   "codemirror_mode": {
    "name": "ipython",
    "version": 3
   },
   "file_extension": ".py",
   "mimetype": "text/x-python",
   "name": "python",
   "nbconvert_exporter": "python",
   "pygments_lexer": "ipython3",
   "version": "3.10.11"
  }
 },
 "nbformat": 4,
 "nbformat_minor": 5
}
