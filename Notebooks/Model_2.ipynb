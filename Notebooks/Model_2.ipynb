{
 "cells": [
  {
   "cell_type": "code",
   "execution_count": 38,
   "id": "000d7153",
   "metadata": {},
   "outputs": [],
   "source": [
    "#IMPORT MODULES\n",
    "import pandas as pd\n",
    "import numpy as np\n",
    "import time\n",
    "# SENTIMENT ANALYSIS USING VADER\n",
    "from sklearn.model_selection import train_test_split, cross_val_score\n",
    "from sklearn.metrics import accuracy_score, precision_score, f1_score, roc_auc_score, precision_score, recall_score, classification_report\n",
    "from sklearn.preprocessing import StandardScaler, MinMaxScaler, LabelEncoder\n",
    "from sklearn.svm import LinearSVC, SVC\n",
    "from sklearn.naive_bayes import BernoulliNB, MultinomialNB\n",
    "from sklearn.linear_model import LinearRegression, Ridge, Lasso\n",
    "from sklearn.tree import DecisionTreeRegressor\n",
    "from sklearn.ensemble import RandomForestRegressor\n",
    "from xgboost import XGBRegressor\n",
    "from lightgbm import LGBMRegressor\n",
    "from catboost import CatBoostRegressor\n",
    "from sklearn.metrics import mean_squared_error, r2_score\n",
    "from sklearn.metrics import mean_absolute_error, mean_squared_error, r2_score\n"
   ]
  },
  {
   "cell_type": "code",
   "execution_count": 16,
   "id": "4a98ad8f",
   "metadata": {},
   "outputs": [],
   "source": [
    "columns = [\n",
    "    \"EdLevel\",\n",
    "    \"Country\",\n",
    "    \"AIBen\",\n",
    "    \"WorkExp\",\n",
    "    \"PurchaseInfluence\",\n",
    "    \"YearsCode\",\n",
    "    \"YearsCodePro\",\n",
    "    \"Industry\",\n",
    "    \"DevType\",\n",
    "    \"OrgSize\",\n",
    "    \"RemoteWork\",\n",
    "    \"ConvertedCompYearly\"\n",
    "]"
   ]
  },
  {
   "cell_type": "code",
   "execution_count": 17,
   "id": "c2c16dce",
   "metadata": {},
   "outputs": [],
   "source": [
    "def shorten_categories(categories, cutoff):\n",
    "    categorical_map = {}\n",
    "    for i in range(len(categories)):\n",
    "        if categories.values[i] >= cutoff:\n",
    "            categorical_map[categories.index[i]] = categories.index[i]\n",
    "        else:\n",
    "            categorical_map[categories.index[i]] = 'Other'\n",
    "    return categorical_map"
   ]
  },
  {
   "cell_type": "code",
   "execution_count": 18,
   "id": "23cc85d2",
   "metadata": {},
   "outputs": [],
   "source": [
    "df1 = pd.read_csv(\"Datasets/survey_results_public.csv\")\n",
    "\n",
    "df1 = df1[df1[\"ConvertedCompYearly\"].notnull()]\n",
    "df1 = df1[columns]\n",
    "df1 = df1.dropna()\n",
    "country_map = shorten_categories(df1.Country.value_counts(), 400)\n",
    "df1['Country'] = df1['Country'].map(country_map)\n",
    "# currency_map = shorten_categories(df1.Currency.value_counts(), 400)\n",
    "# df1[\"Currency\"] = df1[\"Currency\"].map(currency_map)"
   ]
  },
  {
   "cell_type": "code",
   "execution_count": 79,
   "id": "209970cd",
   "metadata": {},
   "outputs": [
    {
     "data": {
      "text/plain": [
       "74351432.0"
      ]
     },
     "execution_count": 79,
     "metadata": {},
     "output_type": "execute_result"
    }
   ],
   "source": [
    "max(df1[\"ConvertedCompYearly\"])"
   ]
  },
  {
   "cell_type": "code",
   "execution_count": 19,
   "id": "e5d45c79",
   "metadata": {},
   "outputs": [],
   "source": [
    "df1 = df1[df1[\"ConvertedCompYearly\"] <= 250000]\n",
    "df1 = df1[df1[\"ConvertedCompYearly\"] >= 100]\n",
    "df1 = df1[df1['Country'] != 'Other']"
   ]
  },
  {
   "cell_type": "code",
   "execution_count": 8,
   "id": "c13605c5",
   "metadata": {},
   "outputs": [],
   "source": [
    "df1.to_csv(\"Filtered Dataset.csv\")"
   ]
  },
  {
   "cell_type": "code",
   "execution_count": 20,
   "id": "85c02dbb",
   "metadata": {},
   "outputs": [],
   "source": [
    "df_LE = df1\n",
    "for i in columns:\n",
    "    if i == \"ConvertedCompYearly\":\n",
    "        continue\n",
    "    le = LabelEncoder()\n",
    "    df_LE[i] = le.fit_transform(df_LE[i])"
   ]
  },
  {
   "cell_type": "code",
   "execution_count": 31,
   "id": "e54bd3d4",
   "metadata": {},
   "outputs": [],
   "source": [
    "X = df_LE[[\n",
    "    \"EdLevel\",\n",
    "    \"Country\",\n",
    "    \"WorkExp\",\n",
    "    \"YearsCode\",\n",
    "    \"YearsCodePro\",\n",
    "    \"DevType\",\n",
    "    \"OrgSize\"\n",
    "]]\n",
    "\n",
    "Y = df_LE[\"ConvertedCompYearly\"]"
   ]
  },
  {
   "cell_type": "code",
   "execution_count": 32,
   "id": "6480a9b9",
   "metadata": {},
   "outputs": [],
   "source": [
    "X_train, X_test, y_train, y_test = train_test_split(\n",
    "    X, Y, test_size=0.1, random_state=42)"
   ]
  },
  {
   "cell_type": "code",
   "execution_count": 33,
   "id": "7f64d5b7",
   "metadata": {},
   "outputs": [],
   "source": [
    "scaler = StandardScaler()\n",
    "X_train_scaled = scaler.fit_transform(X_train)\n",
    "X_test_scaled = scaler.transform(X_test)"
   ]
  },
  {
   "cell_type": "code",
   "execution_count": 34,
   "id": "9c38649f",
   "metadata": {},
   "outputs": [],
   "source": [
    "X_train_scaled = X_train\n",
    "X_test_scaled = X_test"
   ]
  },
  {
   "cell_type": "code",
   "execution_count": 35,
   "id": "5cae2363",
   "metadata": {},
   "outputs": [],
   "source": [
    "classifiers = {}\n",
    "\n",
    "# Linear Regression\n",
    "classifiers[\"LinearRegression\"] = LinearRegression()\n",
    "\n",
    "# Decision Tree\n",
    "classifiers[\"DecisionTree\"] = DecisionTreeRegressor()\n",
    "\n",
    "# Random Forest\n",
    "classifiers[\"RandomForest\"] = RandomForestRegressor()\n",
    "\n",
    "# XGBoost\n",
    "classifiers[\"XGBoost\"] = XGBRegressor()\n",
    "\n",
    "# # LightGBM\n",
    "# classifiers[\"LightGBM\"] = LGBMRegressor()\n",
    "\n",
    "# # CatBoost\n",
    "# classifiers[\"CatBoost\"] = CatBoostRegressor(silent=True)"
   ]
  },
  {
   "cell_type": "code",
   "execution_count": 36,
   "id": "621a975a",
   "metadata": {},
   "outputs": [
    {
     "name": "stdout",
     "output_type": "stream",
     "text": [
      "              Model  Run Time (minutes)           MAE           MSE  \\\n",
      "3           XGBoost                0.00  26985.205298  1.361976e+09   \n",
      "2      RandomForest                0.03  27259.742823  1.376934e+09   \n",
      "0  LinearRegression                0.00  36204.631622  2.100329e+09   \n",
      "1      DecisionTree                0.00  36841.959942  2.646121e+09   \n",
      "\n",
      "           RMSE        R2  \n",
      "3  36904.963371  0.589967  \n",
      "2  37107.063535  0.585464  \n",
      "0  45829.342248  0.367681  \n",
      "1  51440.464748  0.203366  \n"
     ]
    }
   ],
   "source": [
    "# Create an empty DataFrame to store the results\n",
    "columns = ['Model', 'Run Time (minutes)', 'MAE', 'MSE', 'RMSE', 'R2']\n",
    "df_models = pd.DataFrame(columns=columns)\n",
    "\n",
    "# Loop through your regression models\n",
    "for key, clf in classifiers.items():\n",
    "    # STARTING TIME\n",
    "    start_time = time.time()\n",
    "    # TRAIN CLASSIFIER ON TRAINING DATA\n",
    "    clf.fit(X_train_scaled, y_train)\n",
    "    # MAKE PREDICTIONS USING CURRENT CLASSIFIER\n",
    "    predictions = clf.predict(X_test_scaled)\n",
    "    # CALCULATE REGRESSION METRICS\n",
    "    mae = mean_absolute_error(y_test, predictions)\n",
    "    mse = mean_squared_error(y_test, predictions)\n",
    "    rmse = mean_squared_error(y_test, predictions, squared=False)  # Calculate RMSE\n",
    "    r2 = r2_score(y_test, predictions)\n",
    "\n",
    "    row = {'Model': key,\n",
    "           'Run Time (minutes)': round((time.time() - start_time) / 60, 2),\n",
    "           'MAE': mae,\n",
    "           'MSE': mse,\n",
    "           'RMSE': rmse,\n",
    "           'R2': r2\n",
    "           }\n",
    "\n",
    "    df_models = pd.concat([df_models, pd.DataFrame([row])], ignore_index=True)\n",
    "\n",
    "# Sort the DataFrame by R-squared (R2) in descending order\n",
    "df_models = df_models.sort_values(by='R2', ascending=False)\n",
    "\n",
    "# PRINT THE MODELS WITH REGRESSION METRICS [SORTED]\n",
    "print(df_models)\n"
   ]
  },
  {
   "cell_type": "code",
   "execution_count": 18,
   "id": "5d268fe7",
   "metadata": {},
   "outputs": [
    {
     "data": {
      "text/plain": [
       "ConvertedCompYearly\n",
       "2161    212\n",
       "1871    167\n",
       "3501    163\n",
       "2416    155\n",
       "2635    152\n",
       "       ... \n",
       "672       1\n",
       "3726      1\n",
       "1401      1\n",
       "3698      1\n",
       "858       1\n",
       "Name: count, Length: 3755, dtype: int64"
      ]
     },
     "execution_count": 18,
     "metadata": {},
     "output_type": "execute_result"
    }
   ],
   "source": [
    "df_LE[\"ConvertedCompYearly\"].value_counts()"
   ]
  },
  {
   "cell_type": "code",
   "execution_count": 37,
   "id": "cd7eff71",
   "metadata": {},
   "outputs": [
    {
     "data": {
      "text/plain": [
       "250000.0"
      ]
     },
     "execution_count": 37,
     "metadata": {},
     "output_type": "execute_result"
    }
   ],
   "source": [
    "max(df_LE[\"ConvertedCompYearly\"])"
   ]
  },
  {
   "cell_type": "code",
   "execution_count": 39,
   "id": "33958133",
   "metadata": {},
   "outputs": [
    {
     "data": {
      "text/plain": [
       "[('EdLevel', 0.0433210615599559),\n",
       " ('YearsCodePro', 0.06852856958122609),\n",
       " ('OrgSize', 0.07044839677350732),\n",
       " ('DevType', 0.07751551867310329),\n",
       " ('YearsCode', 0.09431940568586594),\n",
       " ('WorkExp', 0.17765718199858985),\n",
       " ('Country', 0.4682098657277517)]"
      ]
     },
     "execution_count": 39,
     "metadata": {},
     "output_type": "execute_result"
    }
   ],
   "source": [
    "#CHECK IMPORTANCE\n",
    "from sklearn.ensemble import RandomForestRegressor\n",
    "model = RandomForestRegressor()\n",
    "model.fit(X, Y)\n",
    "feature_importances = model.feature_importances_\n",
    "\n",
    "map_ = {}\n",
    "\n",
    "for i, a in enumerate(X):\n",
    "    map_[a] = feature_importances[i]\n",
    "    \n",
    "sorted(map_.items(), key = lambda x: x[1])"
   ]
  },
  {
   "cell_type": "code",
   "execution_count": null,
   "id": "74e582b6",
   "metadata": {},
   "outputs": [],
   "source": []
  }
 ],
 "metadata": {
  "kernelspec": {
   "display_name": "Python 3 (ipykernel)",
   "language": "python",
   "name": "python3"
  },
  "language_info": {
   "codemirror_mode": {
    "name": "ipython",
    "version": 3
   },
   "file_extension": ".py",
   "mimetype": "text/x-python",
   "name": "python",
   "nbconvert_exporter": "python",
   "pygments_lexer": "ipython3",
   "version": "3.10.11"
  }
 },
 "nbformat": 4,
 "nbformat_minor": 5
}
